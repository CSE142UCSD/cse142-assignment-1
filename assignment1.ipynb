{
 "cells": [
  {
   "cell_type": "markdown",
   "id": "dba48621-2449-4f97-a8b8-a9d57a26cfbb",
   "metadata": {},
   "source": [
    "1.  [Please put your name here]\n",
    "2.  [Please put your PID here]\n",
    "3.  [Please put your @ucsd.edu email address here]"
   ]
  },
  {
   "cell_type": "markdown",
   "id": "f6a8d939-1a2a-449b-9273-6fb91ff280ff",
   "metadata": {
    "deletable": false,
    "editable": false,
    "tags": []
   },
   "source": [
    "<div style=\" font-size: 300% !important;\n",
    "    margin-top: 1.5em;\n",
    "    margin-bottom: 10px;\n",
    "    font-weight: bold;\n",
    "    line-height: 1.0;\n",
    "    text-align:center;\">\n",
    "\n",
    "#### CSE142 Assignment 1\n",
    "</div>"
   ]
  },
  {
   "cell_type": "markdown",
   "id": "1d058f9f-d457-4c7e-8918-e7217a0825fd",
   "metadata": {
    "deletable": false,
    "editable": false,
    "tags": []
   },
   "source": [
    "<div class=\"alert alert-block alert-success\">\n",
    "\n",
    "## Question 1\n",
    "    \n",
    "Consider the following C function \n",
    "\n",
    "<pre>\n",
    "int vadd(int *a, int *b, int size)\n",
    "{\n",
    "    int i;\n",
    "    for(i=0;i < size;i++)\n",
    "        b[i] += a[i];\n",
    "}\n",
    "</pre>\n",
    "\n",
    "and its compileed x86 code\n",
    "\n",
    "<pre>\n",
    "vadd:\n",
    ".LFB39:\n",
    "        .cfi_startproc\n",
    "        endbr64\n",
    "        testl   %edx, %edx\n",
    "        jle     .L2\n",
    "        leal    -1(%rdx), %ecx\n",
    "        xorl    %eax, %eax\n",
    "        .p2align 4,,10\n",
    "        .p2align 3\n",
    ".L3:\n",
    "        movl    (%rdi,%rax,4), %edx\n",
    "        addl    %edx, (%rsi,%rax,4)\n",
    "        movq    %rax, %rdx\n",
    "        addq    $1, %rax\n",
    "        cmpq    %rcx, %rdx\n",
    "        jne     .L3\n",
    ".L2:\n",
    "        ret\n",
    "        .cfi_endproc\n",
    "</pre>\n",
    "Please answer the following questions.\n",
    "</div>"
   ]
  },
  {
   "cell_type": "markdown",
   "id": "9e7fb70f-779a-4ced-9a45-3e38f2edf13f",
   "metadata": {
    "deletable": false,
    "editable": false,
    "tags": []
   },
   "source": [
    "<div class=\"alert alert-block alert-success\">\n",
    "\n",
    "### 1.A. \n",
    "    \n",
    "If the variable size is set to 1,000,000, how many dynamic instructions will the function take when finishing?\n",
    "</div>"
   ]
  },
  {
   "cell_type": "markdown",
   "id": "9272ac17-d2a3-40c9-a846-9ef0f9d413f6",
   "metadata": {},
   "source": [
    "Please type your answer here.\n",
    "<br>\n",
    "<br>\n",
    "<br>"
   ]
  },
  {
   "cell_type": "markdown",
   "id": "448971b8-1922-4ca9-b7db-4d104318b1f0",
   "metadata": {
    "deletable": false,
    "editable": false,
    "tags": []
   },
   "source": [
    "<div class=\"alert alert-block alert-success\">\n",
    "\n",
    "### 1.B. \n",
    "    \n",
    "Assume:\n",
    "1. the processor runs at 3 GHz\n",
    "2. the movl instruction takes 5 cycles to execute\n",
    "3. the addl instruction with memory access takes 6 cycles to execute\n",
    "4. each branch instruction takes 3 cycles to execute\n",
    "5. other instructions take 1 cycle to execute each\n",
    "    \n",
    "Please estimate the total execution time of vadd function when size is set to 1,000,000. \n",
    "</div>"
   ]
  },
  {
   "cell_type": "markdown",
   "id": "028f5165-9d0d-47c1-8d3e-0f5f02fc40ef",
   "metadata": {},
   "source": [
    "Please type your answer here.\n",
    "\n",
    "Hint: You may start by thinking and extending the following equation.\n",
    "$$ Execution\\_Time = Instruction\\_Count \\times Cycles\\_Per\\_Instruction \\times Cycle\\_Time $$\n",
    "<br>\n",
    "<br>\n",
    "<br>"
   ]
  },
  {
   "cell_type": "markdown",
   "id": "303de4d7-c8dc-4325-8364-5371f9622278",
   "metadata": {
    "deletable": false,
    "editable": false,
    "tags": []
   },
   "source": [
    "<div class=\"alert alert-block alert-success\">\n",
    "\n",
    "### 1.C. \n",
    "    \n",
    "Continued from B. If the processor company decided to redesign the ISA and break up each addl and movl instructions into a memory instruction and an arithmetic instruction. The new memory instruction takes 4 cycles and the arithmetic instruction takes one cycle. If such change allows the clock rate to go up at 4GHz, please estimate the total execution time of vadd function when size is set to 1,000,000. \n",
    "</div>"
   ]
  },
  {
   "cell_type": "markdown",
   "id": "6568e11f-38e3-4b5f-96c1-1a655b0a1ef8",
   "metadata": {},
   "source": [
    "Please type your answer here.\n",
    "<br>\n",
    "<br>\n",
    "<br>"
   ]
  },
  {
   "cell_type": "markdown",
   "id": "69bcb72c-1d78-4ca2-9190-3250a6c243a2",
   "metadata": {
    "deletable": false,
    "editable": false,
    "tags": []
   },
   "source": [
    "<div class=\"alert alert-block alert-success\">\n",
    "\n",
    "### 1.D. \n",
    "    \n",
    "Continued from B and C. What's the speedup of C over B?\n",
    "</div>"
   ]
  },
  {
   "cell_type": "markdown",
   "id": "f120dfc6-4944-4827-839c-030a5f6d71cd",
   "metadata": {},
   "source": [
    "Please type your answer here.\n",
    "<br>\n",
    "<br>\n",
    "<br>"
   ]
  },
  {
   "cell_type": "markdown",
   "id": "cda65873-1012-4934-b1aa-251c8ef3a922",
   "metadata": {
    "deletable": false,
    "editable": false,
    "tags": []
   },
   "source": [
    "<div style=\"page-break-after: always;\"></div>\n",
    "<div class=\"alert alert-block alert-success\">\n",
    "\n",
    "## Question 2\n",
    "    \n",
    "When a program is adapted to run on multiple processors in a multiprocessor system, the execution time on each processor is comprised of computing time and the overhead time required for locked critical sections and/or to send data from one processor to another. Assume a program requires t = 100 s of execution time on one processor. When run p processors, each processor requires t/p s, as well as an additional 4 s of overhead, irrespective of the number of processors. Compute the per-processor execution time for 2, 4, 8, 16, 32, 64, and 128 processors. For each case, list the corresponding speedup relative to a single processor and the ratio between actual speedup versus ideal speedup (speedup if there was no overhead).\n",
    "</div>"
   ]
  },
  {
   "cell_type": "markdown",
   "id": "0c7d2609-d5cc-4822-8314-bb5fbe79f847",
   "metadata": {},
   "source": [
    "Please update the following table and show your work here\n",
    "\n",
    "\n",
    "| Processors | Real    |  Ideal  |\n",
    "|------------|---------|---------|\n",
    "| 1          | 1       |       1 |\n",
    "| 2          | fill me | fill me |\n",
    "| 4          | fill me | fill me |\n",
    "| 8          | fill me | fill me |\n",
    "| 16         | fill me | fill me |\n",
    "| 32         | fill me | fill me |\n",
    "| 64         | fill me | fill me |\n",
    "| 128        | fill me | fill me |\n",
    "\n",
    "Hint: You may start by thinking and extending the following equation.\n",
    "$$ Speedup = \\frac{1}{1-f+\\frac{f}{s}} $$"
   ]
  },
  {
   "cell_type": "markdown",
   "id": "ecef13b3-e696-4458-9cd9-36b50e7db6c8",
   "metadata": {
    "deletable": false,
    "editable": false,
    "tags": []
   },
   "source": [
    "\n",
    "<div style=\"page-break-after: always;\"></div>\n",
    "<div class=\"alert alert-block alert-success\">\n",
    "\n",
    "## Question 3\n",
    "    \n",
    "Consider the following C function \n",
    "\n",
    "<pre>\n",
    "int vadd(float *a, float *b, int size)\n",
    "{\n",
    "    int i;\n",
    "    for(i=0;i < size;i++)\n",
    "        b[i] += a[i];\n",
    "}\n",
    "</pre>\n",
    "\n",
    "and its x86 code\n",
    "\n",
    "<pre>\n",
    "vadd:\n",
    ".LFB39:\n",
    "        .cfi_startproc\n",
    "        endbr64\n",
    "        testl   %edx, %edx\n",
    "        jle     .L2\n",
    "        leal    -1(%rdx), %ecx\n",
    "        xorl    %eax, %eax\n",
    "        .p2align 4,,10\n",
    "        .p2align 3\n",
    ".L3:\n",
    "        movss   (%rsi,%rax,4), %xmm0\n",
    "        addss   (%rdi,%rax,4), %xmm0\n",
    "        movq    %rax, %rdx\n",
    "        movss   %xmm0, (%rsi,%rax,4)\n",
    "        addq    $1, %rax\n",
    "        cmpq    %rcx, %rdx\n",
    "        jne     .L3\n",
    ".L2:\n",
    "        ret\n",
    "        .cfi_endproc\n",
    "</pre>\n",
    "\n",
    "Please answer the following questions.\n",
    "</div>"
   ]
  },
  {
   "cell_type": "markdown",
   "id": "91887c8c-5045-4e67-b79a-679d8b2c3a89",
   "metadata": {
    "deletable": false,
    "editable": false,
    "tags": []
   },
   "source": [
    "<div class=\"alert alert-block alert-success\">\n",
    "\n",
    "### 3.A. \n",
    "    \n",
    "Assume:\n",
    "1. the processor runs at 3 GHz\n",
    "2. the movss instruction takes 5 cycles to execute\n",
    "3. the addss instruction with memory access takes 10 cycles to execute\n",
    "4. each branch instruction takes 3 cycles to execute\n",
    "5. other instructions take 1 cycle to execute each\n",
    "    \n",
    "Please estimate the total execution time of vadd function when size is set to 1,000,000. \n",
    "</div>"
   ]
  },
  {
   "cell_type": "markdown",
   "id": "8f49935d-3dd4-4454-8f1a-2a7d6ec3c8b4",
   "metadata": {},
   "source": [
    "Please type your answer here.\n",
    "<br>\n",
    "<br>\n",
    "<br>"
   ]
  },
  {
   "cell_type": "markdown",
   "id": "c3ca77a8-7071-4cf5-9eec-fe4e4d28729d",
   "metadata": {
    "deletable": false,
    "editable": false,
    "tags": []
   },
   "source": [
    "<div class=\"alert alert-block alert-success\">\n",
    "\n",
    "### 3.B. \n",
    "    \n",
    "Continued from 3.A, what's the giga-floating-point-operations per second (GFLOPS) for this function?\n",
    "</div>"
   ]
  },
  {
   "cell_type": "markdown",
   "id": "6a0f51f1-7755-430e-86ec-541ff2aab7af",
   "metadata": {},
   "source": [
    "Please type your answer here.\n",
    "<br>\n",
    "<br>\n",
    "<br>"
   ]
  },
  {
   "cell_type": "code",
   "execution_count": null,
   "id": "db7ad1ee-7822-411b-b753-66f391768807",
   "metadata": {},
   "outputs": [],
   "source": []
  }
 ],
 "metadata": {
  "kernelspec": {
   "display_name": "Python 3 (ipykernel)",
   "language": "python",
   "name": "python3"
  },
  "language_info": {
   "codemirror_mode": {
    "name": "ipython",
    "version": 3
   },
   "file_extension": ".py",
   "mimetype": "text/x-python",
   "name": "python",
   "nbconvert_exporter": "python",
   "pygments_lexer": "ipython3",
   "version": "3.8.10"
  },
  "widgets": {
   "application/vnd.jupyter.widget-state+json": {
    "state": {},
    "version_major": 2,
    "version_minor": 0
   }
  }
 },
 "nbformat": 4,
 "nbformat_minor": 5
}
